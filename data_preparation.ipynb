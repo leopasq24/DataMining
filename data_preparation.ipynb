{
 "cells": [
  {
   "cell_type": "code",
   "execution_count": 1,
   "id": "9b6b33bd",
   "metadata": {},
   "outputs": [],
   "source": [
    "import pandas as pd\n",
    "import numpy as np\n",
    "import matplotlib.pyplot as plt\n",
    "import seaborn as sns"
   ]
  },
  {
   "cell_type": "code",
   "execution_count": 2,
   "id": "3f2c5c24",
   "metadata": {},
   "outputs": [],
   "source": [
    "df = pd.read_csv(\"./dataset/DM1_game_dataset.csv\")"
   ]
  },
  {
   "cell_type": "markdown",
   "id": "8286fcd8",
   "metadata": {},
   "source": [
    "## 1. Deleting the numcomments"
   ]
  },
  {
   "cell_type": "code",
   "execution_count": 3,
   "id": "f45c29f2",
   "metadata": {},
   "outputs": [],
   "source": [
    "df = df.drop(labels = \"NumComments\", axis = 1)"
   ]
  },
  {
   "cell_type": "markdown",
   "id": "b5462ab2",
   "metadata": {},
   "source": [
    "## 2. Understanding commaxplaytime and mfgplaytime"
   ]
  },
  {
   "cell_type": "code",
   "execution_count": 4,
   "id": "92adea69",
   "metadata": {},
   "outputs": [
    {
     "data": {
      "text/plain": [
       "np.int64(21925)"
      ]
     },
     "execution_count": 4,
     "metadata": {},
     "output_type": "execute_result"
    }
   ],
   "source": [
    "df[df[\"MfgPlaytime\"] == df[\"ComMaxPlaytime\"]][\"BGGId\"].count()"
   ]
  },
  {
   "cell_type": "code",
   "execution_count": 5,
   "id": "ccb61c48",
   "metadata": {},
   "outputs": [
    {
     "data": {
      "text/plain": [
       "4349     60000\n",
       "19044    22500\n",
       "1713     17280\n",
       "15642    14400\n",
       "8120     12000\n",
       "18374    12000\n",
       "8052     10000\n",
       "2059      8640\n",
       "14258     7920\n",
       "3497      6000\n",
       "Name: ComMaxPlaytime, dtype: int64"
      ]
     },
     "execution_count": 5,
     "metadata": {},
     "output_type": "execute_result"
    }
   ],
   "source": [
    "df[\"ComMaxPlaytime\"].sort_values(ascending = False)[0:10]"
   ]
  },
  {
   "cell_type": "code",
   "execution_count": 6,
   "id": "0c7897b9",
   "metadata": {},
   "outputs": [
    {
     "data": {
      "text/plain": [
       "np.float64(90.51352337514253)"
      ]
     },
     "execution_count": 6,
     "metadata": {},
     "output_type": "execute_result"
    }
   ],
   "source": [
    "df[\"ComMaxPlaytime\"].mean()"
   ]
  },
  {
   "cell_type": "code",
   "execution_count": 7,
   "id": "80a8eb9c",
   "metadata": {},
   "outputs": [
    {
     "data": {
      "text/plain": [
       "np.float64(45.0)"
      ]
     },
     "execution_count": 7,
     "metadata": {},
     "output_type": "execute_result"
    }
   ],
   "source": [
    "df[\"ComMaxPlaytime\"].median()"
   ]
  },
  {
   "cell_type": "code",
   "execution_count": 8,
   "id": "c6a80d20",
   "metadata": {},
   "outputs": [],
   "source": [
    "# Decided to drop MfgPlaytime\n",
    "df = df.drop(labels = \"MfgPlaytime\", axis = 1)"
   ]
  },
  {
   "cell_type": "markdown",
   "id": "821de722",
   "metadata": {},
   "source": [
    "## 3. Correction of IsReimplementation "
   ]
  },
  {
   "cell_type": "code",
   "execution_count": 11,
   "id": "61ac71d7",
   "metadata": {},
   "outputs": [],
   "source": [
    "# Fixing IsReimplementation based on NumImplementations\n",
    "df.loc[(df[\"IsReimplementation\"] == 0) & (df[\"NumImplementations\"] > 0), \"IsReimplementation\"] = 1"
   ]
  },
  {
   "cell_type": "code",
   "execution_count": 12,
   "id": "79c0f9d1",
   "metadata": {},
   "outputs": [
    {
     "data": {
      "text/html": [
       "<div>\n",
       "<style scoped>\n",
       "    .dataframe tbody tr th:only-of-type {\n",
       "        vertical-align: middle;\n",
       "    }\n",
       "\n",
       "    .dataframe tbody tr th {\n",
       "        vertical-align: top;\n",
       "    }\n",
       "\n",
       "    .dataframe thead th {\n",
       "        text-align: right;\n",
       "    }\n",
       "</style>\n",
       "<table border=\"1\" class=\"dataframe\">\n",
       "  <thead>\n",
       "    <tr style=\"text-align: right;\">\n",
       "      <th></th>\n",
       "      <th>BGGId</th>\n",
       "      <th>Name</th>\n",
       "      <th>Description</th>\n",
       "      <th>YearPublished</th>\n",
       "      <th>GameWeight</th>\n",
       "      <th>ComWeight</th>\n",
       "      <th>MinPlayers</th>\n",
       "      <th>MaxPlayers</th>\n",
       "      <th>ComAgeRec</th>\n",
       "      <th>LanguageEase</th>\n",
       "      <th>...</th>\n",
       "      <th>Rank:childrensgames</th>\n",
       "      <th>Cat:Thematic</th>\n",
       "      <th>Cat:Strategy</th>\n",
       "      <th>Cat:War</th>\n",
       "      <th>Cat:Family</th>\n",
       "      <th>Cat:CGS</th>\n",
       "      <th>Cat:Abstract</th>\n",
       "      <th>Cat:Party</th>\n",
       "      <th>Cat:Childrens</th>\n",
       "      <th>Rating</th>\n",
       "    </tr>\n",
       "  </thead>\n",
       "  <tbody>\n",
       "  </tbody>\n",
       "</table>\n",
       "<p>0 rows × 44 columns</p>\n",
       "</div>"
      ],
      "text/plain": [
       "Empty DataFrame\n",
       "Columns: [BGGId, Name, Description, YearPublished, GameWeight, ComWeight, MinPlayers, MaxPlayers, ComAgeRec, LanguageEase, BestPlayers, GoodPlayers, NumOwned, NumWant, NumWish, NumWeightVotes, ComMinPlaytime, ComMaxPlaytime, MfgAgeRec, NumUserRatings, NumAlternates, NumExpansions, NumImplementations, IsReimplementation, Family, Kickstarted, ImagePath, Rank:strategygames, Rank:abstracts, Rank:familygames, Rank:thematic, Rank:cgs, Rank:wargames, Rank:partygames, Rank:childrensgames, Cat:Thematic, Cat:Strategy, Cat:War, Cat:Family, Cat:CGS, Cat:Abstract, Cat:Party, Cat:Childrens, Rating]\n",
       "Index: []\n",
       "\n",
       "[0 rows x 44 columns]"
      ]
     },
     "execution_count": 12,
     "metadata": {},
     "output_type": "execute_result"
    }
   ],
   "source": [
    "df[(df[\"IsReimplementation\"] == 0) & (df[\"NumImplementations\"] > 0)]"
   ]
  }
 ],
 "metadata": {
  "kernelspec": {
   "display_name": "Python 3",
   "language": "python",
   "name": "python3"
  },
  "language_info": {
   "codemirror_mode": {
    "name": "ipython",
    "version": 3
   },
   "file_extension": ".py",
   "mimetype": "text/x-python",
   "name": "python",
   "nbconvert_exporter": "python",
   "pygments_lexer": "ipython3",
   "version": "3.12.6"
  }
 },
 "nbformat": 4,
 "nbformat_minor": 5
}
